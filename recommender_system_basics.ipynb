{
 "cells": [
  {
   "cell_type": "markdown",
   "metadata": {},
   "source": [
    "Recommender system\n",
    "--------------------------------"
   ]
  },
  {
   "cell_type": "code",
   "execution_count": 2,
   "metadata": {},
   "outputs": [],
   "source": [
    "import pandas as pd\n",
    "import numpy as np\n",
    "import warnings\n",
    "warnings.filterwarnings('ignore')"
   ]
  },
  {
   "cell_type": "code",
   "execution_count": 3,
   "metadata": {
    "scrolled": true
   },
   "outputs": [],
   "source": [
    "ratings = pd.read_csv('../datasets/u.data', delimiter='\\t',\n",
    "                      header=None, names=['user_id','item_id','rating','timestamp']) \n",
    "\n",
    "ratings.drop('timestamp', axis=1 , inplace=True)\n",
    "user_means = ratings.groupby('user_id')['rating'].mean()"
   ]
  },
  {
   "cell_type": "markdown",
   "metadata": {},
   "source": [
    "### Target user's profile"
   ]
  },
  {
   "cell_type": "code",
   "execution_count": 3,
   "metadata": {
    "collapsed": true
   },
   "outputs": [],
   "source": [
    "profile = [\n",
    "    (355,  3),\n",
    "    (902,  5),\n",
    "    (1429, 2),\n",
    "    (263,  1),\n",
    "    (235,  1),\n",
    "    (249,  5),\n",
    "    (1052, 4),\n",
    "    (89,   5),\n",
    "    (97,   4),\n",
    "    (231,  3)\n",
    "]\n",
    "\n",
    "profile = pd.DataFrame(profile, columns=['item_id', 'rating'])\n",
    "profile_mean = profile['rating'].mean()"
   ]
  },
  {
   "cell_type": "code",
   "execution_count": 4,
   "metadata": {},
   "outputs": [
    {
     "name": "stdout",
     "output_type": "stream",
     "text": [
      "ratings_ui: users, then movies\n",
      "                 rating\n",
      "user_id item_id        \n",
      "196     242           3\n",
      "186     302           3\n",
      "22      377           1\n",
      "244     51            2\n",
      "166     346           1\n",
      "ratings_iu: users, then movies\n",
      "                 rating\n",
      "item_id user_id        \n",
      "242     196           3\n",
      "302     186           3\n",
      "377     22            1\n",
      "51      244           2\n",
      "346     166           1\n",
      "ratings_iu: part of the index for movie 242\n",
      "         rating\n",
      "user_id        \n",
      "196           3\n",
      "63            3\n",
      "226           5\n",
      "154           3\n",
      "306           5\n"
     ]
    }
   ],
   "source": [
    "ratings_ui = ratings.set_index(['user_id', 'item_id']) # Creates a new index data structure\n",
    "ratings_iu = ratings.set_index(['item_id', 'user_id'])\n",
    "profile.set_index('item_id', inplace=True) # Modification is done in-place, hence this cell can only be run once!\n",
    "\n",
    "print('ratings_ui: users, then movies')\n",
    "print(ratings_ui.head())\n",
    "print('ratings_iu: users, then movies')\n",
    "print(ratings_iu.head())\n",
    "print('ratings_iu: part of the index for movie 242')\n",
    "print(ratings_iu.ix[242].head()) # Method `ix` is used to access data via the index"
   ]
  },
  {
   "cell_type": "markdown",
   "metadata": {},
   "source": [
    "Purely for convenience, we create [standard Python named tuples](https://pymotw.com/2/collections/namedtuple.html) to keep relevant objects together."
   ]
  },
  {
   "cell_type": "code",
   "execution_count": 5,
   "metadata": {
    "collapsed": true
   },
   "outputs": [],
   "source": [
    "from collections import namedtuple\n",
    "\n",
    "Rating_Database = namedtuple(field_names=['raw', 'user_movie', 'movie_user', 'means'], \n",
    "                             typename='irrelevant_for_our_purposes')\n",
    "rating_db = Rating_Database(ratings, ratings_ui, ratings_iu, user_means)\n",
    "\n",
    "User_Profile = namedtuple(field_names=['ratings', 'mean'], \n",
    "                          typename='still_irrelevant')\n",
    "profile_info = User_Profile(profile, profile_mean)"
   ]
  },
  {
   "cell_type": "markdown",
   "metadata": {},
   "source": [
    "### Compute the similarity"
   ]
  },
  {
   "cell_type": "code",
   "execution_count": 6,
   "metadata": {
    "collapsed": true
   },
   "outputs": [],
   "source": [
    "def similarity (user_profile, other_user_id, rating_db):\n",
    "    Rv = rating_db.means.ix[other_user_id]\n",
    "    Ru = user_profile.mean\n",
    "    \n",
    "    u_ratings = user_profile.ratings\n",
    "    v_ratings = rating_db.user_movie.ix[other_user_id]\n",
    "    \n",
    "    common_movies = pd.merge(u_ratings, v_ratings, \n",
    "                             left_index = True, right_index = True, \n",
    "                             suffixes=('_u', '_v'),\n",
    "                             how='inner')\n",
    "    \n",
    "    if (common_movies.empty):\n",
    "        return 0.0\n",
    "    \n",
    "    common_movies['rating_u'] -= Ru\n",
    "    common_movies['rating_v'] -= Rv\n",
    "    \n",
    "    common_movies['RujRvj'] = common_movies['rating_u'] * common_movies['rating_v'] \n",
    "    common_movies['RujRuj'] = common_movies['rating_u'] * common_movies['rating_u'] \n",
    "    common_movies['RvjRvj'] = common_movies['rating_v'] * common_movies['rating_v'] \n",
    "    \n",
    "    denom1 = common_movies['RujRuj'].sum()\n",
    "    denom2 = common_movies['RvjRvj'].sum()\n",
    "    \n",
    "    if denom1 == 0 or denom2 == 0:\n",
    "        return 0.0\n",
    "\n",
    "    return (common_movies['RujRvj'].sum() / \n",
    "            np.sqrt(denom1 * denom2))"
   ]
  },
  {
   "cell_type": "markdown",
   "metadata": {},
   "source": [
    "### Predict the rating for a movie"
   ]
  },
  {
   "cell_type": "code",
   "execution_count": 7,
   "metadata": {
    "collapsed": true
   },
   "outputs": [],
   "source": [
    "def co_raters(movie_id, rating_db):                 # Users who rated the target movie\n",
    "    return rating_db.movie_user.ix[movie_id].copy() # are identified directly from the \"movies-then-users\" index (`iu`)\n",
    "\n",
    "def predict (target_movie_id, target_user_profile, rating_db):\n",
    "    cr = co_raters(target_movie_id, rating_db)\n",
    "    cr['similarity'] = cr.apply(axis=1, func=                         # Compute similarity with each co-rater for the movie\n",
    "        lambda v: similarity(target_user_profile, v.name, rating_db)) # `v.name` retrieves the index value, i.e. user ID\n",
    "    \n",
    "    cr['rating'] -= rating_db.means[cr.index]\n",
    "    \n",
    "    alpha = cr['similarity'].abs().sum()\n",
    "    prediction = (cr['similarity'] * cr['rating']).sum()\n",
    "    \n",
    "    return (target_user_profile.mean + prediction / alpha)   \n"
   ]
  },
  {
   "cell_type": "code",
   "execution_count": 8,
   "metadata": {},
   "outputs": [
    {
     "name": "stdout",
     "output_type": "stream",
     "text": [
      "CPU times: user 566 ms, sys: 14.3 ms, total: 580 ms\n",
      "Wall time: 589 ms\n",
      "CPU times: user 1.75 s, sys: 5.02 ms, total: 1.75 s\n",
      "Wall time: 1.75 s\n"
     ]
    },
    {
     "data": {
      "text/plain": [
       "3.550112170273322"
      ]
     },
     "execution_count": 8,
     "metadata": {},
     "output_type": "execute_result"
    }
   ],
   "source": [
    "movie_to_predict = 340\n",
    "%time predict(movie_to_predict, profile_info, rating_db)\n",
    "\n",
    "movie_to_predict = 100\n",
    "%time predict(movie_to_predict, profile_info, rating_db)"
   ]
  }
 ],
 "metadata": {
  "kernelspec": {
   "display_name": "Python 3",
   "language": "python",
   "name": "python3"
  },
  "language_info": {
   "codemirror_mode": {
    "name": "ipython",
    "version": 3
   },
   "file_extension": ".py",
   "mimetype": "text/x-python",
   "name": "python",
   "nbconvert_exporter": "python",
   "pygments_lexer": "ipython3",
   "version": "3.6.4"
  }
 },
 "nbformat": 4,
 "nbformat_minor": 2
}
